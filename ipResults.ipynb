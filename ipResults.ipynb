{
 "cells": [
  {
   "cell_type": "code",
   "execution_count": 128,
   "metadata": {
    "collapsed": false
   },
   "outputs": [],
   "source": [
    "import os\n",
    "import csv\n",
    "import operator\n",
    "import itertools\n",
    "import math\n",
    "import random\n",
    "import numpy as np\n",
    "import matplotlib.pyplot as plt\n",
    "import matplotlib.axes as ax\n",
    "import pandas as pd\n",
    "import numpy as np\n",
    "%matplotlib inline"
   ]
  },
  {
   "cell_type": "code",
   "execution_count": 129,
   "metadata": {
    "collapsed": false
   },
   "outputs": [],
   "source": [
    "df = pd.read_csv('./pedigreeResultsNew.csv')"
   ]
  },
  {
   "cell_type": "code",
   "execution_count": 130,
   "metadata": {
    "collapsed": false,
    "scrolled": true
   },
   "outputs": [],
   "source": [
    "df = df.loc[~df['PedigreeId'].str.contains('test')]\n",
    "df = df.loc[df['Correct_IP'] != 'M']"
   ]
  },
  {
   "cell_type": "code",
   "execution_count": 131,
   "metadata": {
    "collapsed": false
   },
   "outputs": [],
   "source": [
    "ipMapper = {'ansXLR':'XL','ansAR':'AR','ansAD':'AD'}\n",
    "withContradiction = []\n",
    "withoutContradiction = []\n",
    "correct = df['Correct_IP'].tolist()\n",
    "for i,row in df.iterrows():\n",
    "    results = row[['ansXLR','ansAR','ansAD']]\n",
    "    contradictions = [1 if x=='yes' else 0 for x in row[['contradictionXLR','contradictionAR','contradictionAD']].tolist()]\n",
    "    goodIndices = [i for i in range(3) if not contradictions[i]]\n",
    "    withContradiction.append(ipMapper[np.argmax(results[goodIndices])])\n",
    "    withoutContradiction.append(ipMapper[np.argmax(results)])"
   ]
  },
  {
   "cell_type": "code",
   "execution_count": 132,
   "metadata": {
    "collapsed": true
   },
   "outputs": [],
   "source": [
    "from sklearn.metrics import confusion_matrix"
   ]
  },
  {
   "cell_type": "code",
   "execution_count": 133,
   "metadata": {
    "collapsed": true
   },
   "outputs": [],
   "source": [
    "def plot_confusion_matrix(cm, classes,\n",
    "                          normalize=False,\n",
    "                          title='Confusion matrix',\n",
    "                          cmap=plt.cm.Blues):\n",
    "    \"\"\"\n",
    "    This function prints and plots the confusion matrix.\n",
    "    Normalization can be applied by setting `normalize=True`.\n",
    "    \"\"\"\n",
    "    plt.imshow(cm, interpolation='nearest', cmap=cmap)\n",
    "    plt.title(title)\n",
    "    plt.colorbar()\n",
    "    tick_marks = np.arange(len(classes))\n",
    "    plt.xticks(tick_marks, classes, rotation=45)\n",
    "    plt.yticks(tick_marks, classes)\n",
    "\n",
    "    if normalize:\n",
    "        cm = cm.astype('float') / cm.sum(axis=1)[:, np.newaxis]\n",
    "        print(\"Normalized confusion matrix\")\n",
    "    else:\n",
    "        print('Confusion matrix, without normalization')\n",
    "\n",
    "    print(cm)\n",
    "\n",
    "    thresh = cm.max() / 2.\n",
    "    for i, j in itertools.product(range(cm.shape[0]), range(cm.shape[1])):\n",
    "        plt.text(j, i, cm[i, j],\n",
    "                 horizontalalignment=\"center\",\n",
    "                 color=\"white\" if cm[i, j] > thresh else \"black\")\n",
    "\n",
    "    plt.tight_layout()\n",
    "    plt.ylabel('True label')\n",
    "    plt.xlabel('Predicted label')"
   ]
  },
  {
   "cell_type": "code",
   "execution_count": 134,
   "metadata": {
    "collapsed": false
   },
   "outputs": [],
   "source": [
    "cm = confusion_matrix(correct,withContradiction,labels=['XL','AR','AD'])"
   ]
  },
  {
   "cell_type": "code",
   "execution_count": 412,
   "metadata": {
    "collapsed": false
   },
   "outputs": [
    {
     "name": "stdout",
     "output_type": "stream",
     "text": [
      "Confusion matrix, without normalization\n",
      "[[ 7 14  0]\n",
      " [ 0 45  0]\n",
      " [ 2 33  2]]\n"
     ]
    },
    {
     "data": {
      "image/png": "[encoded data removed]",
      "text/plain": [
       "<matplotlib.figure.Figure at 0x10e135b90>"
      ]
     },
     "metadata": {},
     "output_type": "display_data"
    }
   ],
   "source": [
    "plot_confusion_matrix(cm,['XL','AR','AD'],normalize=False)"
   ]
  },
  {
   "cell_type": "code",
   "execution_count": 136,
   "metadata": {
    "collapsed": true
   },
   "outputs": [],
   "source": [
    "df = df.rename(columns={'contradictionXLR':'contraXLR','contradictionAR':'contraAR','contradictionAD':'contraAD'})"
   ]
  },
  {
   "cell_type": "code",
   "execution_count": 137,
   "metadata": {
    "collapsed": false
   },
   "outputs": [],
   "source": [
    "# correct for each category\n",
    "# wrong for each category\n",
    "xlRows = df.loc[df['Correct_IP'] == 'XL'][['PedigreeId','contraXLR','ansXLR','contraAR','ansAR']]\n",
    "arRows = df.loc[df['Correct_IP'] == 'AR'][['PedigreeId','contraXLR','ansXLR','contraAR','ansAR']]\n",
    "adRows = df.loc[df['Correct_IP'] == 'AD'][['PedigreeId','contraAR','ansAR','contraAD','ansAD']]"
   ]
  },
  {
   "cell_type": "code",
   "execution_count": 155,
   "metadata": {
    "collapsed": false
   },
   "outputs": [
    {
     "name": "stdout",
     "output_type": "stream",
     "text": [
      "      PedigreeId contraXLR        ansXLR contraAR         ansAR ye XLR>AR\n",
      "4     273PA.json        no  1.069273e-12       no  2.672787e-09  _      _\n",
      "5     277DP.json        no  5.662932e-07       no  3.900347e-06  _      _\n",
      "6     302KW.json        no  9.587528e-09       no  5.068931e-08  _      _\n",
      "10   3239PB.json        no  6.416558e-10       no  3.240482e-10  1      1\n",
      "11   3383AT.json       yes  1.119275e-09       no  7.148700e-10  _      1\n",
      "17   3903KA.json        no  2.448162e-12       no  2.771190e-08  _      _\n",
      "25   4958NG.json        no  4.044559e-13       no  6.674773e-15  1      1\n",
      "26   4961BR.json        no  1.095894e-12       no  6.203704e-14  1      1\n",
      "31   5082RH.json        no  4.104687e-11       no  8.119135e-12  1      1\n",
      "33   5191BD.json        no  7.611946e-07       no  5.217452e-06  _      _\n",
      "41   5426JR.json        no  4.329248e-08       no  4.564615e-06  _      _\n",
      "44  55000MB.json        no  6.677686e-11       no  5.548639e-11  1      1\n",
      "45   5500MB.json        no  3.384792e-13       no  3.238353e-11  _      _\n",
      "56   5704AC.json        no  1.428755e-11       no  5.442465e-15  1      1\n",
      "63   5784CV.json        no  9.703851e-06       no  1.043193e-05  _      _\n",
      "65   5793KB.json        no  2.992312e-09       no  7.112645e-08  _      _\n",
      "68   5833TK.json       yes  6.477668e-13       no  9.247170e-12  _      _\n",
      "80   5991KP.json        no  5.273897e-10       no  1.254668e-09  _      _\n",
      "83   6030CH.json        no  9.989278e-09       no  1.049234e-08  _      _\n",
      "96   6261JS.json       yes  1.005929e-11       no  2.972566e-12  _      1\n",
      "98   6327JA.json        no  1.005624e-07       no  1.402471e-08  1      1\n"
     ]
    }
   ],
   "source": [
    "correctIndices = xlRows[xlRows['ansXLR'] > xlRows['ansAR']].index\n",
    "xlRows['ye'] = [1 if x in correctIndices and y != 'yes' else '_' for x,y in zip(xlRows.index,xlRows.contraXLR)]\n",
    "xlRows['XLR>AR'] = [1 if x in correctIndices else '_' for x in xlRows.index]\n",
    "xlRows['diff'] = abs(xlRows['ansXLR']-xlRows['ansAR'])/xlRows['ansXLR']\n",
    "print(xlRows[['PedigreeId','contraXLR','ansXLR','contraAR','ansAR','ye','XLR>AR']])"
   ]
  },
  {
   "cell_type": "code",
   "execution_count": 159,
   "metadata": {
    "collapsed": false,
    "scrolled": false
   },
   "outputs": [
    {
     "name": "stdout",
     "output_type": "stream",
     "text": [
      "        PedigreeId contraXLR        ansXLR contraAR         ansAR ye AR>XLR\n",
      "1      2055JS.json        no  5.743621e-10       no  1.099690e-07  1      1\n",
      "2       230KK.json        no  7.800288e-10       no  1.381515e-06  1      1\n",
      "3       235TL.json       yes  7.065115e-07       no  2.484284e-07  _      _\n",
      "7      3061JE.json       yes  2.556063e-06       no  1.221761e-06  _      _\n",
      "12     3464DF.json        no  6.238491e-08       no  5.776723e-07  1      1\n",
      "15      3818J.json       yes  8.729356e-10       no  2.805782e-09  1      1\n",
      "16   3843AH_2.json       yes  1.122739e-06       no  1.032664e-06  _      _\n",
      "19      404KH.json       yes  1.344700e-07       no  2.840333e-06  1      1\n",
      "21     4259DM.json        no  4.896725e-10       no  1.936371e-06  1      1\n",
      "22     4515JN.json       yes  1.203633e-10       no  1.468243e-08  1      1\n",
      "23     4547PB.json        no  2.050898e-10       no  5.919172e-07  1      1\n",
      "27     4984TC.json       yes  8.366614e-11       no  5.492966e-07  1      1\n",
      "28     4994BD.json        no  3.037697e-10       no  1.878942e-08  1      1\n",
      "29     5034MM.json        no  2.030830e-08       no  6.871270e-06  1      1\n",
      "30     5035KK.json       yes  3.010414e-10       no  1.867099e-07  1      1\n",
      "34     5220AT.json        no  2.624329e-04       no  4.961267e-04  1      1\n",
      "40     5415RS.json        no  6.469303e-07       no  7.189740e-06  1      1\n",
      "42     5484LB.json        no  1.987515e-07       no  9.702173e-06  1      1\n",
      "43     5495MH.json       yes  9.284443e-07       no  1.632876e-09  _      _\n",
      "46     5546EL.json       yes  2.069614e-08       no  8.242940e-07  1      1\n",
      "48     5596IN.json       yes  8.577932e-12       no  4.448887e-10  1      1\n",
      "51     5669JS.json        no  8.349807e-08       no  1.873732e-05  1      1\n",
      "52     5678AK.json        no  7.499742e-09       no  3.156807e-07  1      1\n",
      "53     5694JL.json        no  4.694492e-09       no  8.087126e-08  1      1\n",
      "54     5697MS.json       yes  3.302674e-04       no  9.182442e-05  _      _\n",
      "55     5701LC.json       yes  3.437689e-07       no  4.562133e-07  1      1\n",
      "59     5738AT.json        no  2.402511e-04       no  4.093598e-04  1      1\n",
      "60     5749KR.json       yes  3.026399e-06       no  9.872001e-07  _      _\n",
      "64     5786EK.json       yes  4.763685e-05       no  4.678752e-05  _      _\n",
      "67     5812RH.json       yes  2.134404e-08       no  4.028470e-07  1      1\n",
      "76     5961FY.json        no  1.597982e-13       no  2.803753e-11  1      1\n",
      "79     5988CF.json       yes  8.709149e-06       no  1.397768e-05  1      1\n",
      "81     5992VM.json       yes  9.294558e-07       no  2.474418e-06  1      1\n",
      "82     6028SV.json        no  7.035285e-13       no  4.406718e-09  1      1\n",
      "84     6050MM.json       yes  5.152276e-09       no  1.149905e-07  1      1\n",
      "85     6066RB.json       yes  1.911834e-06       no  4.139931e-06  1      1\n",
      "87      611JC.json       yes  4.010123e-08       no  9.930053e-08  1      1\n",
      "88     6142KB.json        no  4.310422e-08       no  1.447632e-07  1      1\n",
      "90     6166MS.json       yes  3.896402e-06       no  1.706226e-05  1      1\n",
      "92     6199RS.json       yes  1.462454e-10       no  7.107028e-08  1      1\n",
      "93     6210HG.json       yes  2.646529e-08       no  4.155480e-10  _      _\n",
      "95     6217IV.json       yes  3.375847e-05       no  2.206421e-05  _      _\n",
      "100    6437AB.json       yes  1.315603e-06       no  1.467057e-06  1      1\n",
      "101    6449TA.json       yes  5.121272e-11       no  2.084531e-08  1      1\n",
      "102    6457RB.json        no  3.621639e-05       no  8.990924e-05  1      1\n"
     ]
    }
   ],
   "source": [
    "correctIndices = arRows[arRows['ansAR'] > arRows['ansXLR']].index\n",
    "arRows['ye'] = [1 if x in correctIndices and y != 'yes' else '_' for x,y in zip(arRows.index,arRows.contraAR)]\n",
    "arRows['AR>XLR'] = [1 if x in correctIndices else '_' for x in arRows.index]\n",
    "arRows['diff'] = abs(arRows['ansAR']-arRows['ansXLR'])/arRows['ansAR']\n",
    "print(arRows[['PedigreeId','contraXLR','ansXLR','contraAR','ansAR','ye','AR>XLR']])"
   ]
  },
  {
   "cell_type": "code",
   "execution_count": 157,
   "metadata": {
    "collapsed": false
   },
   "outputs": [
    {
     "name": "stdout",
     "output_type": "stream",
     "text": [
      "        PedigreeId contraAR         ansAR contraAD         ansAD ye AD>AR\n",
      "0      1084LN.json       no  1.810422e-15      yes  1.006181e-25  _     _\n",
      "9      3235JW.json       no  5.376931e-15      yes  2.169907e-12  _     1\n",
      "13     3738KW.json       no  1.883920e-10      yes  1.940948e-07  _     1\n",
      "14     3743MH.json       no  7.863808e-09      yes  3.030145e-08  _     1\n",
      "18     3935SC.json       no  5.788849e-10      yes  8.931037e-18  _     _\n",
      "20      417CP.json       no  3.625299e-05       no  5.874868e-09  _     _\n",
      "24     4954DK.json       no  3.030570e-07      yes  1.786997e-06  _     1\n",
      "32     5092AD.json       no  1.176067e-09      yes  5.610173e-19  _     _\n",
      "35     5248RH.json       no  1.319170e-09      yes  2.943016e-08  _     1\n",
      "36     5263TS.json       no  1.206105e-07      yes  1.315832e-09  _     _\n",
      "37     5359MH.json       no  8.639353e-11      yes  5.309343e-10  _     1\n",
      "38     5377KD.json       no  1.606193e-07      yes  6.422272e-05  _     1\n",
      "39     5393JR.json       no  1.022137e-07      yes  2.871317e-06  _     1\n",
      "47     5571JF.json       no  4.698445e-08      yes  6.618741e-06  _     1\n",
      "49     5633JK.json       no  4.765291e-07      yes  1.340946e-03  _     1\n",
      "50     5665PB.json       no  4.052886e-08      yes  1.745045e-06  _     1\n",
      "57     5712CS.json       no  1.275127e-10      yes  2.037845e-12  _     _\n",
      "58     5713BS.json       no  2.747760e-10      yes  7.001592e-10  _     1\n",
      "61     5775VS.json       no  9.407498e-06      yes  1.116930e-03  _     1\n",
      "62     5783CC.json       no  1.500587e-09       no  2.259054e-09  1     1\n",
      "66     5808SL.json       no  1.056613e-05       no  8.798116e-06  _     _\n",
      "69     5855MO.json       no  1.934874e-08      yes  5.090005e-04  _     1\n",
      "70     5864KJ.json       no  9.083282e-06       no  1.670164e-03  1     1\n",
      "71     5865MH.json       no  3.774478e-20      yes  1.387855e-13  _     1\n",
      "72     5867KA.json       no  1.181659e-08      yes  8.387248e-13  _     _\n",
      "73     5892JB.json       no  2.480674e-07      yes  1.126864e-11  _     _\n",
      "74     5915MB.json       no  3.634614e-07      yes  1.834273e-06  _     1\n",
      "75     5951MB.json       no  5.260056e-08      yes  2.004975e-06  _     1\n",
      "77     5962WJ.json       no  4.476670e-10      yes  1.602017e-15  _     _\n",
      "78     5965MS.json       no  1.639100e-07      yes  2.931075e-05  _     1\n",
      "86     6087SR.json       no  4.982837e-12      yes  3.351874e-06  _     1\n",
      "89     6156AK.json       no  1.243026e-05       no  2.325769e-06  _     _\n",
      "91   6166MSsc.json       no  7.904028e-08      yes  2.596925e-03  _     1\n",
      "94     6212SD.json       no  3.796067e-07      yes  7.732024e-06  _     1\n",
      "97     6323AM.json       no  2.011666e-06       no  5.539727e-10  _     _\n",
      "99     6339KS.json       no  2.696685e-11      yes  5.079955e-16  _     _\n",
      "103    6481MR.json       no  1.299733e-06      yes  1.875459e-07  _     _\n"
     ]
    }
   ],
   "source": [
    "correctIndices = adRows[adRows['ansAD'] > adRows['ansAR']].index\n",
    "adRows['ye'] = [1 if x in correctIndices and y != 'yes' else '_' for x,y in zip(adRows.index,adRows.contraAD)]\n",
    "adRows['AD>AR'] = [1 if x in correctIndices else '_' for x in adRows.index]\n",
    "adRows['diff'] = abs(adRows['ansAD']-adRows['ansAR'])/adRows['ansAD']\n",
    "print(adRows[['PedigreeId','contraAR','ansAR','contraAD','ansAD','ye','AD>AR']])"
   ]
  },
  {
   "cell_type": "code",
   "execution_count": 161,
   "metadata": {
    "collapsed": false
   },
   "outputs": [],
   "source": [
    "df2 = pd.read_csv('/Users/Eddie/kec-bot/PatientRecords.csv')"
   ]
  },
  {
   "cell_type": "code",
   "execution_count": 196,
   "metadata": {
    "collapsed": false,
    "scrolled": true
   },
   "outputs": [],
   "source": [
    "df = df.rename(columns={'PedigreeId': 'Patient ID'})"
   ]
  },
  {
   "cell_type": "code",
   "execution_count": 209,
   "metadata": {
    "collapsed": false
   },
   "outputs": [],
   "source": [
    "newDf = pd.merge(df, df2, how='inner', on=['Patient ID'])"
   ]
  },
  {
   "cell_type": "code",
   "execution_count": 213,
   "metadata": {
    "collapsed": false
   },
   "outputs": [],
   "source": [
    "data = newDf[['Patient ID','Correct_IP','contraXLR','ansXLR','contraAR','ansAR','contraAD','ansAD','Affected Family Members','More Than One Affected Generation','Affected Male with Affected Son','Affected Male with Affected Daughter','Skipping of Females Only','Only Siblings Affected','Males and Females Affected','Any Male with Age of Onset <= 20 Years','Any Female with Asymmetric Diease','Any Female with Less Severe/Asymmetric/Later Onset','Incomplete Penetrance','Consanguinity']]"
   ]
  },
  {
   "cell_type": "code",
   "execution_count": 443,
   "metadata": {
    "collapsed": false
   },
   "outputs": [],
   "source": [
    "yMapper = {'AD':0,'AR':1,'XL':2}\n",
    "y = np.array([yMapper[x] for x in data['Correct_IP']])"
   ]
  },
  {
   "cell_type": "code",
   "execution_count": 250,
   "metadata": {
    "collapsed": false
   },
   "outputs": [],
   "source": [
    "yesNo = {'yes':1,'no':0,'Yes':1,'No':0}\n",
    "x = []\n",
    "for i,row in data.iterrows():\n",
    "    currentRow = [yesNo[_x] if _x=='yes' or _x=='no' or _x=='Yes' or _x=='No' else _x for _x in row.tolist()[2:]]\n",
    "    x.append(currentRow)"
   ]
  },
  {
   "cell_type": "code",
   "execution_count": 277,
   "metadata": {
    "collapsed": false
   },
   "outputs": [],
   "source": [
    "from sklearn.model_selection import train_test_split"
   ]
  },
  {
   "cell_type": "code",
   "execution_count": 320,
   "metadata": {
    "collapsed": false
   },
   "outputs": [],
   "source": [
    "X_train, X_test, y_train, y_test = train_test_split(x, y, test_size=0.2, random_state=42, stratify=y)"
   ]
  },
  {
   "cell_type": "code",
   "execution_count": 541,
   "metadata": {
    "collapsed": true
   },
   "outputs": [],
   "source": [
    "from sklearn.ensemble import *\n",
    "classifier = ExtraTreesClassifier"
   ]
  },
  {
   "cell_type": "code",
   "execution_count": 322,
   "metadata": {
    "collapsed": false
   },
   "outputs": [],
   "source": [
    "clf = classifier(n_estimators=500)\n",
    "clf = clf.fit(X_train, y_train)"
   ]
  },
  {
   "cell_type": "code",
   "execution_count": 323,
   "metadata": {
    "collapsed": false
   },
   "outputs": [
    {
     "name": "stdout",
     "output_type": "stream",
     "text": [
      "0.973684210526\n",
      "0.8\n",
      "0.9375\n"
     ]
    }
   ],
   "source": [
    "print(clf.score(X_train,y_train))\n",
    "print(clf.score(X_test,y_test))\n",
    "print(clf.score(x,y))"
   ]
  },
  {
   "cell_type": "code",
   "execution_count": 334,
   "metadata": {
    "collapsed": false
   },
   "outputs": [
    {
     "name": "stdout",
     "output_type": "stream",
     "text": [
      "Normalized confusion matrix\n",
      "[[ 0.91428571  0.08571429  0.        ]\n",
      " [ 0.02380952  0.97619048  0.        ]\n",
      " [ 0.10526316  0.          0.89473684]]\n"
     ]
    },
    {
     "data": {
      "image/png": "[encoded data removed]",
      "text/plain": [
       "<matplotlib.figure.Figure at 0x10e6e8ad0>"
      ]
     },
     "metadata": {},
     "output_type": "display_data"
    }
   ],
   "source": [
    "predY = clf.predict(x)\n",
    "cm2 = confusion_matrix(y,predY,labels=[0,1,2])\n",
    "plot_confusion_matrix(cm2,[0,1,2],normalize=True)"
   ]
  },
  {
   "cell_type": "code",
   "execution_count": 333,
   "metadata": {
    "collapsed": false
   },
   "outputs": [
    {
     "name": "stdout",
     "output_type": "stream",
     "text": [
      "Normalized confusion matrix\n",
      "[[ 0.71428571  0.28571429  0.        ]\n",
      " [ 0.11111111  0.88888889  0.        ]\n",
      " [ 0.25        0.          0.75      ]]\n"
     ]
    },
    {
     "data": {
      "image/png": "[encoded data removed]",
      "text/plain": [
       "<matplotlib.figure.Figure at 0x10edd2210>"
      ]
     },
     "metadata": {},
     "output_type": "display_data"
    }
   ],
   "source": [
    "predY = clf.predict(X_test)\n",
    "cm2 = confusion_matrix(y_test,predY,labels=[0,1,2])\n",
    "plot_confusion_matrix(cm2,[0,1,2],normalize=True)"
   ]
  },
  {
   "cell_type": "code",
   "execution_count": 646,
   "metadata": {
    "collapsed": false
   },
   "outputs": [],
   "source": [
    "dfBF = pd.read_csv('./pedigreeResultsBruteForce2.csv')\n",
    "dfBF = dfBF.loc[dfBF['Correct_IP'] != 'M']"
   ]
  },
  {
   "cell_type": "code",
   "execution_count": 647,
   "metadata": {
    "collapsed": true
   },
   "outputs": [],
   "source": [
    "dfBF['ResultsXLR'] = dfBF['ResultsXLR'].apply(lambda x:max(eval(x)[2:]))\n",
    "dfBF['ResultsAR'] = dfBF['ResultsAR'].apply(lambda x:max(eval(x)[2:]))\n",
    "dfBF['ResultsAD'] = dfBF['ResultsAD'].apply(lambda x:max(eval(x)[2:]))"
   ]
  },
  {
   "cell_type": "code",
   "execution_count": 648,
   "metadata": {
    "collapsed": false
   },
   "outputs": [],
   "source": [
    "trueLabels = dfBF['Correct_IP'].apply(lambda x:yMapper[x])"
   ]
  },
  {
   "cell_type": "code",
   "execution_count": 649,
   "metadata": {
    "collapsed": false
   },
   "outputs": [],
   "source": [
    "yMapper2 = {'ResultsAD':0,'ResultsAR':1,'ResultsXLR':2}\n",
    "predicted = dfBF[['ResultsXLR','ResultsAR','ResultsAD']].idxmax(axis=1).apply(lambda x:yMapper2[x])"
   ]
  },
  {
   "cell_type": "code",
   "execution_count": 650,
   "metadata": {
    "collapsed": false
   },
   "outputs": [
    {
     "name": "stdout",
     "output_type": "stream",
     "text": [
      "Accuracy: 0.650485436893\n",
      "\n",
      "Normalized confusion matrix\n",
      "[[ 0.64864865  0.2972973   0.05405405]\n",
      " [ 0.11111111  0.71111111  0.17777778]\n",
      " [ 0.38095238  0.0952381   0.52380952]]\n"
     ]
    },
    {
     "data": {
      "image/png": "[encoded data removed]",
      "text/plain": [
       "<matplotlib.figure.Figure at 0x10e961050>"
      ]
     },
     "metadata": {},
     "output_type": "display_data"
    }
   ],
   "source": [
    "mapBack = {0:'AD',1:'AR',2:'XL'}\n",
    "print('Accuracy: '+str(len([x for x,y in zip(trueLabels,predicted) if x==y])/float(len(trueLabels)))+'\\n')\n",
    "cm3 = confusion_matrix(trueLabels.apply(lambda x:mapBack[x]),predicted.apply(lambda x:mapBack[x]),labels=['AD','AR','XL'])\n",
    "plot_confusion_matrix(cm3,['AD','AR','XL'],normalize=True)"
   ]
  },
  {
   "cell_type": "code",
   "execution_count": 651,
   "metadata": {
    "collapsed": false
   },
   "outputs": [],
   "source": [
    "yMapper3 = {'ResultsAD':'AD','ResultsAR':'AR','ResultsXLR':'XL'}\n",
    "dfBF['Predicted'] = dfBF[['ResultsXLR','ResultsAR','ResultsAD']].idxmax(axis=1).apply(lambda x:yMapper3[x])"
   ]
  },
  {
   "cell_type": "code",
   "execution_count": 652,
   "metadata": {
    "collapsed": false,
    "scrolled": false
   },
   "outputs": [],
   "source": [
    "dfBF = dfBF.rename(columns={'PedigreeId': 'Patient ID'})"
   ]
  },
  {
   "cell_type": "code",
   "execution_count": 653,
   "metadata": {
    "collapsed": false
   },
   "outputs": [],
   "source": [
    "newDf['bfXLR'] = dfBF['ResultsXLR']\n",
    "newDf['bfAR'] = dfBF['ResultsAR']\n",
    "newDf['bfAD'] = dfBF['ResultsAD']"
   ]
  },
  {
   "cell_type": "code",
   "execution_count": 654,
   "metadata": {
    "collapsed": false
   },
   "outputs": [],
   "source": [
    "newerDf = pd.merge(newDf, dfBF, how='inner', on=['Patient ID'])\n",
    "newerDf = newerDf.rename(columns={'Correct_IP_x': 'Correct_IP'})\n",
    "del newerDf['Correct_IP_y']\n",
    "del newerDf['Predicted']"
   ]
  },
  {
   "cell_type": "code",
   "execution_count": 659,
   "metadata": {
    "collapsed": false
   },
   "outputs": [],
   "source": [
    "# data = newerDf[['Patient ID','Correct_IP','ResultsXLR','ResultsAR','ResultsAD','Affected Family Members','More Than One Affected Generation','Affected Male with Affected Son','Affected Male with Affected Daughter','Skipping of Females Only','Only Siblings Affected','Males and Females Affected','Any Male with Age of Onset <= 20 Years','Any Female with Asymmetric Diease','Any Female with Less Severe/Asymmetric/Later Onset','Incomplete Penetrance','Consanguinity']]\n",
    "data = newerDf[['Patient ID','Correct_IP','contraXLR','ansXLR','contraAR','ansAR','contraAD','ansAD','Affected Family Members','More Than One Affected Generation','Affected Male with Affected Son','Affected Male with Affected Daughter','Skipping of Females Only','Only Siblings Affected','Males and Females Affected','Any Male with Age of Onset <= 20 Years','Any Female with Asymmetric Diease','Any Female with Less Severe/Asymmetric/Later Onset','Incomplete Penetrance','Consanguinity']]\n",
    "yMapper = {'AD':0,'AR':1,'XL':2}\n",
    "y = np.array([yMapper[x] for x in data['Correct_IP']])\n",
    "yesNo = {'yes':1,'no':0,'Yes':1,'No':0}\n",
    "x = []\n",
    "for i,row in data.iterrows():\n",
    "    currentRow = [yesNo[_x] if _x=='yes' or _x=='no' or _x=='Yes' or _x=='No' else _x for _x in row.tolist()[2:]]\n",
    "    x.append(currentRow)\n",
    "X_train, X_test, y_train, y_test = train_test_split(x, y, test_size=0.2, random_state=42, stratify=y)"
   ]
  },
  {
   "cell_type": "code",
   "execution_count": 662,
   "metadata": {
    "collapsed": false
   },
   "outputs": [
    {
     "name": "stdout",
     "output_type": "stream",
     "text": [
      "0.986842105263\n",
      "0.75\n",
      "0.9375\n"
     ]
    }
   ],
   "source": [
    "classifier = ExtraTreesClassifier\n",
    "clf = classifier(n_estimators=500,max_features='sqrt',max_depth=None,criterion='gini')\n",
    "clf = clf.fit(X_train, y_train)\n",
    "print(clf.score(X_train,y_train))\n",
    "print(clf.score(X_test,y_test))\n",
    "print(clf.score(x,y))"
   ]
  },
  {
   "cell_type": "code",
   "execution_count": 663,
   "metadata": {
    "collapsed": false
   },
   "outputs": [
    {
     "name": "stdout",
     "output_type": "stream",
     "text": [
      "Normalized confusion matrix\n",
      "[[ 0.71428571  0.28571429  0.        ]\n",
      " [ 0.11111111  0.88888889  0.        ]\n",
      " [ 0.5         0.          0.5       ]]\n"
     ]
    },
    {
     "data": {
      "image/png": "[encoded data removed]",
      "text/plain": [
       "<matplotlib.figure.Figure at 0x10e5a9e10>"
      ]
     },
     "metadata": {},
     "output_type": "display_data"
    }
   ],
   "source": [
    "predY = clf.predict(X_test)\n",
    "cm2 = confusion_matrix(y_test,predY,labels=[0,1,2])\n",
    "plot_confusion_matrix(cm2,[0,1,2],normalize=True)"
   ]
  },
  {
   "cell_type": "code",
   "execution_count": null,
   "metadata": {
    "collapsed": true
   },
   "outputs": [],
   "source": []
  }
 ],
 "metadata": {
  "kernelspec": {
   "display_name": "Python 2",
   "language": "python",
   "name": "python2"
  },
  "language_info": {
   "codemirror_mode": {
    "name": "ipython",
    "version": 2
   },
   "file_extension": ".py",
   "mimetype": "text/x-python",
   "name": "python",
   "nbconvert_exporter": "python",
   "pygments_lexer": "ipython2",
   "version": "2.7.11"
  }
 },
 "nbformat": 4,
 "nbformat_minor": 0
}
