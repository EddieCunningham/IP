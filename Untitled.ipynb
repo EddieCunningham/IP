{
 "cells": [
  {
   "cell_type": "code",
   "execution_count": 1,
   "metadata": {
    "collapsed": false
   },
   "outputs": [],
   "source": [
    "import os\n",
    "import operator\n",
    "import itertools\n",
    "import math\n",
    "import random\n",
    "import numpy as np\n",
    "import matplotlib.pyplot as plt\n",
    "%matplotlib inline\n",
    "import json\n",
    "import ipStochastic"
   ]
  },
  {
   "cell_type": "code",
   "execution_count": 2,
   "metadata": {
    "collapsed": false
   },
   "outputs": [],
   "source": [
    "def plotData(fileName):\n",
    "    with open('./stochasticData/data_'+fileName, 'r') as fp:\n",
    "        data = json.load(fp)\n",
    "        types = data['types']\n",
    "        name = data['name']\n",
    "        realTotal = data['totalNumTerms']\n",
    "        x = []\n",
    "        y = []\n",
    "        for k,v in data.items():\n",
    "            if(k not in ['types','name','totalNumTerms']):\n",
    "                x.append(float(k))\n",
    "                y.append(float(v))\n",
    "        x = np.array(sorted(x))\n",
    "        y = np.array(sorted(y))\n",
    "        inferredY = [_y*realTotal/float(_x) for _x,_y in zip(x,y)]\n",
    "        plt.scatter(x[10**2:],inferredY[10**2:],marker='o', c='b', s=1)\n",
    "        plt.show()\n",
    "        print('Real total number of terms: '+str(realTotal))\n",
    "        print('Number of samples: '+str(x[-1]))\n",
    "        print('Estimated answer is: '+str(inferredY[-1]))\n",
    "        print('The types are: '+str(types))\n",
    "        # keep top 80% of points in inferredY\n",
    "        cutoff = int(len(inferredY)*0.75)\n",
    "        plt.hist(sorted(inferredY[:cutoff]),75)\n",
    "        plt.show()"
   ]
  },
  {
   "cell_type": "code",
   "execution_count": 3,
   "metadata": {
    "collapsed": true
   },
   "outputs": [],
   "source": [
    "def testAndPlot(fileName,totalSamples):\n",
    "    ipStochastic.getSumForFile(fileName,1000,totalSamples)\n",
    "    plotData(fileName)"
   ]
  },
  {
   "cell_type": "code",
   "execution_count": 8,
   "metadata": {
    "collapsed": false
   },
   "outputs": [
    {
     "data": {
      "image/png": "[encoded data removed]",
      "text/plain": [
       "<matplotlib.figure.Figure at 0x104fc3790>"
      ]
     },
     "metadata": {},
     "output_type": "display_data"
    },
    {
     "name": "stdout",
     "output_type": "stream",
     "text": [
      "Real total number of terms: 3486784401\n",
      "Number of samples: 2000000.0\n",
      "Estimated answer is: 880.013438183\n",
      "The types are: [[u'n', [[0, 0], [1, 4]]], [u'n', [[5, 20], [2, 8]]], [u'g', [[5, 20], [0, 1], [1, 5]]], [u'n', [[6, 24], [3, 12]]], [u'g', [[6, 24], [7, 28], [2, 9]]], [u'g', [[7, 28], [0, 2], [1, 6]]], [u'n', [[8, 32], [4, 16]]], [u'g', [[8, 32], [9, 36], [3, 13]]], [u'g', [[9, 36], [10, 40], [2, 10]]], [u'g', [[10, 40], [0, 3], [1, 7]]]]\n"
     ]
    },
    {
     "data": {
      "image/png": "[encoded data removed]",
      "text/plain": [
       "<matplotlib.figure.Figure at 0x105159d10>"
      ]
     },
     "metadata": {},
     "output_type": "display_data"
    }
   ],
   "source": [
    "testAndPlot('test_9.json',2000000)"
   ]
  },
  {
   "cell_type": "code",
   "execution_count": null,
   "metadata": {
    "collapsed": false
   },
   "outputs": [],
   "source": []
  },
  {
   "cell_type": "code",
   "execution_count": null,
   "metadata": {
    "collapsed": true
   },
   "outputs": [],
   "source": []
  }
 ],
 "metadata": {
  "kernelspec": {
   "display_name": "Python 2",
   "language": "python",
   "name": "python2"
  },
  "language_info": {
   "codemirror_mode": {
    "name": "ipython",
    "version": 2
   },
   "file_extension": ".py",
   "mimetype": "text/x-python",
   "name": "python",
   "nbconvert_exporter": "python",
   "pygments_lexer": "ipython2",
   "version": "2.7.11"
  }
 },
 "nbformat": 4,
 "nbformat_minor": 0
}
