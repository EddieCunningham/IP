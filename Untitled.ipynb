{
 "cells": [
  {
   "cell_type": "code",
   "execution_count": 2,
   "metadata": {
    "collapsed": false
   },
   "outputs": [],
   "source": [
    "import os\n",
    "import operator\n",
    "import itertools\n",
    "import math\n",
    "import random\n",
    "import numpy as np\n",
    "import matplotlib.pyplot as plt\n",
    "%matplotlib inline\n",
    "import json\n",
    "import ipStochastic"
   ]
  },
  {
   "cell_type": "code",
   "execution_count": 77,
   "metadata": {
    "collapsed": false
   },
   "outputs": [],
   "source": [
    "def plotData(fileName):\n",
    "    with open('./stochasticData/data_'+fileName, 'r') as fp:\n",
    "        data = json.load(fp)\n",
    "        types = data['types']\n",
    "        name = data['name']\n",
    "        realTotal = data['totalNumTerms']\n",
    "        x = []\n",
    "        y = []\n",
    "        for k,v in data.items():\n",
    "            if(k not in ['types','name','totalNumTerms']):\n",
    "                x.append(float(k))\n",
    "                y.append(float(v))\n",
    "        x = np.array(sorted(x))\n",
    "        y = np.array(sorted(y))\n",
    "        inferredY = [_y*realTotal/float(_x) for _x,_y in zip(x,y)]\n",
    "        plt.scatter(x[10**2:],inferredY[10**2:],marker='o', c='b', s=1)\n",
    "        plt.show()\n",
    "        print('Real total number of terms: '+str(realTotal))\n",
    "        print('Number of samples: '+str(x[-1]))\n",
    "        print('Estimated answer is: '+str(inferredY[-1]))\n",
    "        print('The types are: '+str(sorted([str(t[0]) for t in types])))\n",
    "        # keep top 80% of points in inferredY\n",
    "        cutoff = int(len(inferredY)*0.75)\n",
    "        plt.hist(sorted(inferredY[:cutoff]),75)\n",
    "        plt.show()"
   ]
  },
  {
   "cell_type": "code",
   "execution_count": 78,
   "metadata": {
    "collapsed": false
   },
   "outputs": [],
   "source": [
    "ipStochastic.getSumForFile('test_3.json',1000,20000000)"
   ]
  },
  {
   "cell_type": "code",
   "execution_count": 79,
   "metadata": {
    "collapsed": false
   },
   "outputs": [
    {
     "data": {
      "image/png": "[encoded data removed]",
      "text/plain": [
       "<matplotlib.figure.Figure at 0x1062f4510>"
      ]
     },
     "metadata": {},
     "output_type": "display_data"
    },
    {
     "name": "stdout",
     "output_type": "stream",
     "text": [
      "Real total number of terms: 205891132094649\n",
      "Number of samples: 20000000.0\n",
      "Estimated answer is: 224667.199462\n",
      "The types are: ['n', 'n', 'n', 'n', 'n', 'n', 'n', 'n', 'n', 'n', 'n', 'n', 'n', 'n', 'n']\n"
     ]
    },
    {
     "data": {
      "image/png": "[encoded data removed]",
      "text/plain": [
       "<matplotlib.figure.Figure at 0x103b2d7d0>"
      ]
     },
     "metadata": {},
     "output_type": "display_data"
    }
   ],
   "source": [
    "plotData('test_3.json')"
   ]
  },
  {
   "cell_type": "code",
   "execution_count": null,
   "metadata": {
    "collapsed": true
   },
   "outputs": [],
   "source": []
  },
  {
   "cell_type": "code",
   "execution_count": null,
   "metadata": {
    "collapsed": true
   },
   "outputs": [],
   "source": []
  },
  {
   "cell_type": "code",
   "execution_count": null,
   "metadata": {
    "collapsed": true
   },
   "outputs": [],
   "source": []
  },
  {
   "cell_type": "code",
   "execution_count": null,
   "metadata": {
    "collapsed": true
   },
   "outputs": [],
   "source": []
  },
  {
   "cell_type": "code",
   "execution_count": null,
   "metadata": {
    "collapsed": true
   },
   "outputs": [],
   "source": []
  },
  {
   "cell_type": "code",
   "execution_count": null,
   "metadata": {
    "collapsed": true
   },
   "outputs": [],
   "source": []
  }
 ],
 "metadata": {
  "kernelspec": {
   "display_name": "Python 2",
   "language": "python",
   "name": "python2"
  },
  "language_info": {
   "codemirror_mode": {
    "name": "ipython",
    "version": 2
   },
   "file_extension": ".py",
   "mimetype": "text/x-python",
   "name": "python",
   "nbconvert_exporter": "python",
   "pygments_lexer": "ipython2",
   "version": "2.7.11"
  }
 },
 "nbformat": 4,
 "nbformat_minor": 0
}
