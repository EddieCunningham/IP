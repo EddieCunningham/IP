{
 "cells": [
  {
   "cell_type": "code",
   "execution_count": 1,
   "metadata": {
    "collapsed": false
   },
   "outputs": [],
   "source": [
    "import os\n",
    "import operator\n",
    "import itertools\n",
    "import math\n",
    "import random\n",
    "import numpy as np\n",
    "import matplotlib.pyplot as plt\n",
    "import matplotlib.axes as ax\n",
    "%matplotlib inline\n",
    "import json\n",
    "from inheritancePatternSolver import *"
   ]
  },
  {
   "cell_type": "code",
   "execution_count": 2,
   "metadata": {
    "collapsed": false
   },
   "outputs": [],
   "source": [
    "def plotData(fileName):\n",
    "    with open('./stochasticData/data_'+fileName, 'r') as fp:\n",
    "        data = json.load(fp)\n",
    "        x = []\n",
    "        y = []\n",
    "        for k,v in data.items():\n",
    "            if(k not in ['name']):\n",
    "                x.append(float(k))\n",
    "                y.append(float(v))\n",
    "        x,y = zip(*sorted(zip(x,y),key=lambda _x: _x[0]))\n",
    "        cutoff = 0\n",
    "        x = np.array(x)[cutoff:]\n",
    "        y = np.array(y)[cutoff:]\n",
    "        plt.scatter(x,y,marker='o', c='b', s=1)\n",
    "        print('ymin: '+str(y.min()))\n",
    "        print('ymax: '+str(y.max()))\n",
    "        plt.axes().set_ylim([y.min(),y.max()])\n",
    "        plt.show()\n",
    "        print('Number of samples: '+str(x[-1]))\n",
    "        print('Estimated answer is: '+str(y[-1]))\n",
    "        plt.hist(y,75)\n",
    "        plt.show()"
   ]
  },
  {
   "cell_type": "code",
   "execution_count": 3,
   "metadata": {
    "collapsed": false
   },
   "outputs": [],
   "source": [
    "filename = '1084LN.json'\n",
    "pedigreeClass = initADProb(filename)\n",
    "num_samples = 10000000\n",
    "checkpoint = 1000\n",
    "printCheckpoint = 50000\n",
    "calcProb(pedigreeClass,num_samples,checkpoint,printCheckpoint,True,filename)"
   ]
  },
  {
   "cell_type": "code",
   "execution_count": 4,
   "metadata": {
    "collapsed": false
   },
   "outputs": [
    {
     "name": "stdout",
     "output_type": "stream",
     "text": [
      "ymin: 2.21999594143e-65\n",
      "ymax: 4.19250882726e-60\n"
     ]
    },
    {
     "data": {
      "image/png": "[encoded data removed]",
      "text/plain": [
       "<matplotlib.figure.Figure at 0x106fe1410>"
      ]
     },
     "metadata": {},
     "output_type": "display_data"
    },
    {
     "name": "stdout",
     "output_type": "stream",
     "text": [
      "Number of samples: 9999000.0\n",
      "Estimated answer is: 2.32847238589e-60\n"
     ]
    },
    {
     "data": {
      "image/png": "[encoded data removed]",
      "text/plain": [
       "<matplotlib.figure.Figure at 0x109719e90>"
      ]
     },
     "metadata": {},
     "output_type": "display_data"
    }
   ],
   "source": [
    "plotData(filename)"
   ]
  },
  {
   "cell_type": "code",
   "execution_count": null,
   "metadata": {
    "collapsed": true
   },
   "outputs": [],
   "source": []
  }
 ],
 "metadata": {
  "kernelspec": {
   "display_name": "Python 2",
   "language": "python",
   "name": "python2"
  },
  "language_info": {
   "codemirror_mode": {
    "name": "ipython",
    "version": 2
   },
   "file_extension": ".py",
   "mimetype": "text/x-python",
   "name": "python",
   "nbconvert_exporter": "python",
   "pygments_lexer": "ipython2",
   "version": "2.7.11"
  }
 },
 "nbformat": 4,
 "nbformat_minor": 0
}
