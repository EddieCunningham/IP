{
 "cells": [
  {
   "cell_type": "code",
   "execution_count": 2,
   "metadata": {
    "collapsed": false
   },
   "outputs": [],
   "source": [
    "import os\n",
    "import operator\n",
    "import itertools\n",
    "import math\n",
    "import random\n",
    "import numpy as np\n",
    "import matplotlib.pyplot as plt\n",
    "%matplotlib inline\n",
    "import json\n",
    "import ipStochastic"
   ]
  },
  {
   "cell_type": "code",
   "execution_count": 83,
   "metadata": {
    "collapsed": false
   },
   "outputs": [],
   "source": [
    "def plotData(fileName):\n",
    "    with open('./stochasticData/data_'+fileName, 'r') as fp:\n",
    "        data = json.load(fp)\n",
    "        types = data['types']\n",
    "        name = data['name']\n",
    "        realTotal = data['totalNumTerms']\n",
    "        x = []\n",
    "        y = []\n",
    "        for k,v in data.items():\n",
    "            if(k not in ['types','name','totalNumTerms']):\n",
    "                x.append(float(k))\n",
    "                y.append(float(v))\n",
    "        x = np.array(sorted(x))\n",
    "        y = np.array(sorted(y))\n",
    "        inferredY = [_y*realTotal/float(_x) for _x,_y in zip(x,y)]\n",
    "        plt.scatter(x[10**2:],inferredY[10**2:],marker='o', c='b', s=1)\n",
    "        plt.show()\n",
    "        print('Real total number of terms: '+str(realTotal))\n",
    "        print('Number of samples: '+str(x[-1]))\n",
    "        print('Estimated answer is: '+str(inferredY[-1]))\n",
    "        print('The types are: '+str(types))\n",
    "        # keep top 80% of points in inferredY\n",
    "        cutoff = int(len(inferredY)*0.75)\n",
    "        plt.hist(sorted(inferredY[:cutoff]),75)\n",
    "        plt.show()"
   ]
  },
  {
   "cell_type": "code",
   "execution_count": 93,
   "metadata": {
    "collapsed": true
   },
   "outputs": [],
   "source": [
    "ipStochastic.getSumForFile('test_3.json',1000,40000000)"
   ]
  },
  {
   "cell_type": "code",
   "execution_count": 94,
   "metadata": {
    "collapsed": false
   },
   "outputs": [
    {
     "data": {
      "image/png": "[encoded data removed]",
      "text/plain": [
       "<matplotlib.figure.Figure at 0x10720ad90>"
      ]
     },
     "metadata": {},
     "output_type": "display_data"
    },
    {
     "name": "stdout",
     "output_type": "stream",
     "text": [
      "Real total number of terms: 205891132094649\n",
      "Number of samples: 40000000.0\n",
      "Estimated answer is: 211475.953793\n",
      "The types are: [[u'n', [[0, 0], [1, 15]]], [u'n', [[0, 1], [1, 16]]], [u'n', [[0, 2], [1, 17]]], [u'n', [[0, 3], [1, 18]]], [u'n', [[0, 4], [1, 19]]], [u'n', [[0, 5], [1, 20]]], [u'n', [[0, 6], [1, 21]]], [u'n', [[0, 7], [1, 22]]], [u'n', [[0, 8], [1, 23]]], [u'n', [[0, 9], [1, 24]]], [u'n', [[0, 10], [1, 25]]], [u'n', [[0, 11], [1, 26]]], [u'n', [[0, 12], [1, 27]]], [u'n', [[0, 13], [1, 28]]], [u'n', [[0, 14], [1, 29]]]]\n"
     ]
    },
    {
     "data": {
      "image/png": "[encoded data removed]",
      "text/plain": [
       "<matplotlib.figure.Figure at 0x10720a690>"
      ]
     },
     "metadata": {},
     "output_type": "display_data"
    }
   ],
   "source": [
    "plotData('test_3.json')"
   ]
  },
  {
   "cell_type": "code",
   "execution_count": null,
   "metadata": {
    "collapsed": true
   },
   "outputs": [],
   "source": []
  },
  {
   "cell_type": "code",
   "execution_count": null,
   "metadata": {
    "collapsed": true
   },
   "outputs": [],
   "source": []
  },
  {
   "cell_type": "code",
   "execution_count": null,
   "metadata": {
    "collapsed": true
   },
   "outputs": [],
   "source": []
  },
  {
   "cell_type": "code",
   "execution_count": null,
   "metadata": {
    "collapsed": true
   },
   "outputs": [],
   "source": []
  }
 ],
 "metadata": {
  "kernelspec": {
   "display_name": "Python 2",
   "language": "python",
   "name": "python2"
  },
  "language_info": {
   "codemirror_mode": {
    "name": "ipython",
    "version": 2
   },
   "file_extension": ".py",
   "mimetype": "text/x-python",
   "name": "python",
   "nbconvert_exporter": "python",
   "pygments_lexer": "ipython2",
   "version": "2.7.11"
  }
 },
 "nbformat": 4,
 "nbformat_minor": 0
}
